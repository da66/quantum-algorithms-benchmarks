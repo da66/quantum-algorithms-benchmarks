{
 "cells": [
  {
   "cell_type": "markdown",
   "id": "ef26fd61",
   "metadata": {},
   "source": [
    "# Summary of optimization solutions\n",
    "\n",
    "This notebook presents the summary of the solutions to the different optimization problems. Details on the reported metrics can be found in the `summary.json` file of each solution."
   ]
  },
  {
   "cell_type": "code",
   "execution_count": 58,
   "id": "9775346e",
   "metadata": {},
   "outputs": [],
   "source": [
    "import pandas as pd\n",
    "\n",
    "from utils import parse_solutions"
   ]
  },
  {
   "cell_type": "markdown",
   "id": "ef68c200",
   "metadata": {},
   "source": [
    "## Maxcut\n",
    "\n",
    "Maxcut is a generic benchmark. Progress on solving large maxcut instances are a sign of progress of quantum information processing technologies in general."
   ]
  },
  {
   "cell_type": "code",
   "execution_count": 59,
   "id": "a6319a72",
   "metadata": {},
   "outputs": [],
   "source": [
    "fields = [\"date\", \"objective\", \"approximation ratio\", \"time to solution\", \"publication\", \"cost of solution\"]\n",
    "data = parse_solutions(\"maxcut\", fields)"
   ]
  },
  {
   "cell_type": "code",
   "execution_count": 60,
   "id": "be33e2bd",
   "metadata": {},
   "outputs": [
    {
     "data": {
      "text/html": [
       "<div>\n",
       "<style scoped>\n",
       "    .dataframe tbody tr th:only-of-type {\n",
       "        vertical-align: middle;\n",
       "    }\n",
       "\n",
       "    .dataframe tbody tr th {\n",
       "        vertical-align: top;\n",
       "    }\n",
       "\n",
       "    .dataframe thead th {\n",
       "        text-align: right;\n",
       "    }\n",
       "</style>\n",
       "<table border=\"1\" class=\"dataframe\">\n",
       "  <thead>\n",
       "    <tr style=\"text-align: right;\">\n",
       "      <th></th>\n",
       "      <th>problem</th>\n",
       "      <th>date</th>\n",
       "      <th>objective</th>\n",
       "      <th>approximation ratio</th>\n",
       "      <th>time to solution</th>\n",
       "      <th>publication</th>\n",
       "      <th>cost of solution</th>\n",
       "    </tr>\n",
       "  </thead>\n",
       "  <tbody>\n",
       "    <tr>\n",
       "      <th>0</th>\n",
       "      <td>27variables_heavyhex_1</td>\n",
       "      <td>2022-07-26</td>\n",
       "      <td>12</td>\n",
       "      <td>1.0</td>\n",
       "      <td>7192.0</td>\n",
       "      <td>https://doi.org/10.22331/q-2022-12-07-870</td>\n",
       "      <td>n.a.</td>\n",
       "    </tr>\n",
       "  </tbody>\n",
       "</table>\n",
       "</div>"
      ],
      "text/plain": [
       "                  problem        date  objective  approximation ratio  \\\n",
       "0  27variables_heavyhex_1  2022-07-26         12                  1.0   \n",
       "\n",
       "   time to solution                                publication  \\\n",
       "0            7192.0  https://doi.org/10.22331/q-2022-12-07-870   \n",
       "\n",
       "  cost of solution  \n",
       "0             n.a.  "
      ]
     },
     "execution_count": 60,
     "metadata": {},
     "output_type": "execute_result"
    }
   ],
   "source": [
    "pd.DataFrame(data)"
   ]
  },
  {
   "cell_type": "code",
   "execution_count": null,
   "id": "482df951",
   "metadata": {},
   "outputs": [],
   "source": []
  }
 ],
 "metadata": {
  "kernelspec": {
   "display_name": "Python 3 (ipykernel)",
   "language": "python",
   "name": "python3"
  },
  "language_info": {
   "codemirror_mode": {
    "name": "ipython",
    "version": 3
   },
   "file_extension": ".py",
   "mimetype": "text/x-python",
   "name": "python",
   "nbconvert_exporter": "python",
   "pygments_lexer": "ipython3",
   "version": "3.9.13"
  }
 },
 "nbformat": 4,
 "nbformat_minor": 5
}
