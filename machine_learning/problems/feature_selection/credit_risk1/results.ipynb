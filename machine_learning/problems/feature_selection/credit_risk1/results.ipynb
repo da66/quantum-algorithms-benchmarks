{
 "cells": [
  {
   "cell_type": "markdown",
   "source": [
    "# Feature Selection: Credit Risk\n",
    "\n",
    "* **Problem**: Feature Selection\n",
    "* **Dataset**: [Publicly available credit risk dataset](online:http://archive.ics.uci.edu/ml/machine-learning-databases/statlog/german/german.data)\n",
    "* **Algorithm**: [Black-box binary optimizations (BBBO)](https://quantum-journal.org/papers/q-2023-01-26-909/)\n",
    "* **Journal Reference**: [Variational quantum algorithm for unconstrained black box binary optimization: Application to feature selection](https://quantum-journal.org/papers/q-2023-01-26-909/)\n",
    "* **Backend**: [Matrix product state simulator](https://qiskit.org/documentation/stubs/qiskit_aer.AerSimulator.html)"
   ],
   "metadata": {
    "collapsed": false,
    "pycharm": {
     "name": "#%% md\n"
    }
   }
  },
  {
   "cell_type": "markdown",
   "source": [
    "### Result Plots"
   ],
   "metadata": {
    "collapsed": false,
    "pycharm": {
     "name": "#%% md\n"
    }
   }
  },
  {
   "cell_type": "code",
   "execution_count": 2,
   "outputs": [],
   "source": [
    "# Libraries\n",
    "import numpy as np\n",
    "import matplotlib.pyplot as plt\n",
    "import csv"
   ],
   "metadata": {
    "collapsed": false,
    "pycharm": {
     "name": "#%%\n"
    }
   }
  },
  {
   "cell_type": "code",
   "execution_count": 3,
   "outputs": [],
   "source": [
    "# Result files\n",
    "result_dirs = ['vqa_d0/performance.csv', 'vqa_d1/performance.csv', 'vqa_d2/performance.csv', 'rfe/performance.csv', 'rfecv_acc/performance.csv', 'rfecv_log/performance.csv']"
   ],
   "metadata": {
    "collapsed": false,
    "pycharm": {
     "name": "#%%\n"
    }
   }
  },
  {
   "cell_type": "code",
   "execution_count": 40,
   "outputs": [],
   "source": [
    "# Load data\n",
    "train_log_loss = []\n",
    "test_log_loss = []\n",
    "train_log_loss_ci_low = []\n",
    "test_log_loss_ci_low = []\n",
    "train_log_loss_ci_high = []\n",
    "test_log_loss_ci_high = []\n",
    "for result_dir in result_dirs:\n",
    "    file = open(result_dir)\n",
    "    csvreader = csv.reader(file)\n",
    "    rows = []\n",
    "    for row in csvreader:\n",
    "        rows.append(row)\n",
    "    file.close()\n",
    "    train_log_loss.append(float(rows[1][2][2:7]))\n",
    "    test_log_loss.append(float(rows[2][2][2:7]))\n",
    "    train_log_loss_ci_low.append(float(rows[3][2][2:8]))\n",
    "    test_log_loss_ci_low.append(float(rows[4][2][2:8]))\n",
    "    train_log_loss_ci_high.append(float(rows[3][3][1:7]))\n",
    "    test_log_loss_ci_high.append(float(rows[4][3][1:7]))\n"
   ],
   "metadata": {
    "collapsed": false,
    "pycharm": {
     "name": "#%%\n"
    }
   }
  },
  {
   "cell_type": "code",
   "execution_count": 67,
   "outputs": [
    {
     "data": {
      "text/plain": "<Figure size 432x288 with 1 Axes>",
      "image/png": "[encoded data removed]"
     },
     "metadata": {
      "needs_background": "light"
     },
     "output_type": "display_data"
    }
   ],
   "source": [
    "# Plot figure representing the final log-loss scores for the tested models w.r.t. train and test data including the confidence intervals evaluated at confidence of 95%\n",
    "fig = plt.figure()\n",
    "ax = fig.add_axes([0,0,1,1])\n",
    "labels = ['VQA d=0', 'VQA d=1', 'VQA d=2', 'RFE', 'RFECV (acc)', 'RFECV (log)']\n",
    "ax.bar(np.array(range(len(test_log_loss)))-0.125, train_log_loss, label ='training data', width = 0.25, yerr=[np.subtract(train_log_loss, train_log_loss_ci_low), np.subtract(train_log_loss_ci_high, train_log_loss)])\n",
    "plt.title('Performance w.r.t. Log-Loss')\n",
    "ax.bar(np.array(range(len(test_log_loss)))+0.125, test_log_loss, color='orange', label='test data', width = 0.25, yerr=[np.subtract(test_log_loss, test_log_loss_ci_low), np.subtract(test_log_loss_ci_high, test_log_loss)])\n",
    "plt.legend(loc='best')\n",
    "# ax.set_xticklabels(labels)\n",
    "plt.xticks(np.array(range(len(test_log_loss))), labels)\n",
    "plt.ylim(0.4, 0.6)\n",
    "plt.show()"
   ],
   "metadata": {
    "collapsed": false,
    "pycharm": {
     "name": "#%%\n"
    }
   }
  },
  {
   "cell_type": "code",
   "execution_count": null,
   "outputs": [],
   "source": [],
   "metadata": {
    "collapsed": false,
    "pycharm": {
     "name": "#%%\n"
    }
   }
  }
 ],
 "metadata": {
  "kernelspec": {
   "name": "qiskitdevenv",
   "language": "python",
   "display_name": "QiskitDevenv"
  },
  "language_info": {
   "codemirror_mode": {
    "name": "ipython",
    "version": 3
   },
   "file_extension": ".py",
   "mimetype": "text/x-python",
   "name": "python",
   "nbconvert_exporter": "python",
   "pygments_lexer": "ipython3",
   "version": "3.10.4"
  }
 },
 "nbformat": 4,
 "nbformat_minor": 1
}