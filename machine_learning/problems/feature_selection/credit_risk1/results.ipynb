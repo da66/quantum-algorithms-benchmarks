{
 "cells": [
  {
   "cell_type": "markdown",
   "source": [
    "# Benchmark - 1\n",
    "* **Problem**: Feature Selection\n",
    "* **Dataset**: [Publicly available credit risk dataset](online:http://archive.ics.uci.edu/ml/machine-learning-databases/statlog/german/german.data)\n",
    "* **Algorithm**: [Black-box binary optimizations (BBBO)](https://quantum-journal.org/papers/q-2023-01-26-909/)\n",
    "* **Journal Reference**: [Variational quantum algorithm for unconstrained black box binary optimization: Application to feature selection](https://quantum-journal.org/papers/q-2023-01-26-909/)\n",
    "* **Backend**: [Matrix product state simulator](https://qiskit.org/documentation/stubs/qiskit_aer.AerSimulator.html)\n",
    "\n",
    "We would like to point out that the all information considering the learning setting: ansatz, optimizer, hyperparameters, etc. can be found in the journal reference linked above."
   ],
   "metadata": {
    "collapsed": false,
    "pycharm": {
     "name": "#%% md\n"
    }
   }
  },
  {
   "cell_type": "markdown",
   "source": [
    "  Method      | Train Score         | Test Score        | Train CI                                 | Test CI\n",
    "------------|---------------------|-------------------|------------------------------------------|----------------\n",
    "RFECV (acc) | 0.4389              | 0.4900            | [0.4193, 0.4651]                         | [0.4643, 0.5132]\n",
    "RFECV (log) | 0.4556              | 0.4905            | [0.4288, 0.4772]                         | [0.4658, 0.5099]\n",
    "RFE         | 0.4456              | 0.4848            | [0.4191, 0.4638]                         | [0.4597, 0.5188]\n",
    "MPS d=0     | 0.4386 &pm; 0.0034  | 0.4804 &pm; 0.0028 | [0.4164 &pm; 0.0050, 0.4621&pm; 0.0044]  | [0.4537 &pm; 0.0043, 0.5033 &pm; 0.0059]\n",
    "MPS d=1     | 0.4388 &pm; 0.0034  | 0.4776 &pm; 0.0038 | [0.4150 &pm; 0.0055, 0.4596 &pm; 0.0043] | [0.4545 &pm; 0.0050, 0.5026 &pm; 0.0063]\n",
    "MPS d=2 | 0.4401  &pm; 0.0043 | 0.4759 &pm; 0.0019 | [0.4182&pm; 0.0068, 0.4620&pm; 0.0026]   | [0.4514 &pm; 0.0035, 0.4982&pm; 0.0048]\n",
    "\n",
    "The table shows the train scores, test scores and corresponding CI bounds for the RFECV (accuracy), RFECV (log-loss) and RFE feature selection methods for the logistic regression model with $59$ features. The train scores for $d=0$ are on average marginally better than higher depth results. This may again be related to the approximation error of QN-SPSA mentioned before. Moreover, the mean value and standard deviation for the experiments conducted with $10$ random seeds are presented for each depth $0$, $1$ and $2$ with respect to the best train/test scores of each experiment and corresponding CI."
   ],
   "metadata": {
    "collapsed": false,
    "pycharm": {
     "name": "#%% md\n"
    }
   }
  },
  {
   "cell_type": "markdown",
   "source": [],
   "metadata": {
    "collapsed": false,
    "pycharm": {
     "name": "#%% md\n"
    }
   }
  },
  {
   "cell_type": "code",
   "execution_count": null,
   "outputs": [],
   "source": [],
   "metadata": {
    "collapsed": false,
    "pycharm": {
     "name": "#%%\n"
    }
   }
  }
 ],
 "metadata": {
  "kernelspec": {
   "display_name": "Python 3",
   "language": "python",
   "name": "python3"
  },
  "language_info": {
   "codemirror_mode": {
    "name": "ipython",
    "version": 2
   },
   "file_extension": ".py",
   "mimetype": "text/x-python",
   "name": "python",
   "nbconvert_exporter": "python",
   "pygments_lexer": "ipython2",
   "version": "2.7.6"
  }
 },
 "nbformat": 4,
 "nbformat_minor": 0
}